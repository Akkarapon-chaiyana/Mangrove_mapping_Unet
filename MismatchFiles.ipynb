{
 "cells": [
  {
   "cell_type": "code",
   "execution_count": 1,
   "id": "0c490a27-e78e-42f6-bce7-458003738ada",
   "metadata": {},
   "outputs": [
    {
     "name": "stdout",
     "output_type": "stream",
     "text": [
      "Files in label_malaysia but not in sentinel_malaysia:\n",
      "0031.tif\n",
      "\n",
      "No mismatches in sentinel_malaysia directory.\n"
     ]
    }
   ],
   "source": [
    "import os\n",
    "\n",
    "# Define the paths to your directories\n",
    "label_path = '/Volumes/Tony/Clay/label_malaysia'\n",
    "sentinel_path = '/Volumes/Tony/Clay/sentinel_malaysia'\n",
    "\n",
    "# List all files in each directory\n",
    "label_files = set(os.listdir(label_path))\n",
    "sentinel_files = set(os.listdir(sentinel_path))\n",
    "\n",
    "# Find mismatched files\n",
    "label_mismatch = label_files - sentinel_files\n",
    "sentinel_mismatch = sentinel_files - label_files\n",
    "\n",
    "# Display mismatched files\n",
    "if label_mismatch:\n",
    "    print(\"Files in label_malaysia but not in sentinel_malaysia:\")\n",
    "    print(\"\\n\".join(label_mismatch))\n",
    "else:\n",
    "    print(\"No mismatches in label_malaysia directory.\")\n",
    "\n",
    "if sentinel_mismatch:\n",
    "    print(\"\\nFiles in sentinel_malaysia but not in label_malaysia:\")\n",
    "    print(\"\\n\".join(sentinel_mismatch))\n",
    "else:\n",
    "    print(\"\\nNo mismatches in sentinel_malaysia directory.\")\n"
   ]
  },
  {
   "cell_type": "code",
   "execution_count": null,
   "id": "6deb9db3-ddad-4b57-9d63-2c042d18fd2d",
   "metadata": {},
   "outputs": [],
   "source": []
  }
 ],
 "metadata": {
  "kernelspec": {
   "display_name": "Python 3 (ipykernel)",
   "language": "python",
   "name": "python3"
  },
  "language_info": {
   "codemirror_mode": {
    "name": "ipython",
    "version": 3
   },
   "file_extension": ".py",
   "mimetype": "text/x-python",
   "name": "python",
   "nbconvert_exporter": "python",
   "pygments_lexer": "ipython3",
   "version": "3.10.9"
  }
 },
 "nbformat": 4,
 "nbformat_minor": 5
}
